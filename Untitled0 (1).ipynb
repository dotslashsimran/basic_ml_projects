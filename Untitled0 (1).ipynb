{
  "nbformat": 4,
  "nbformat_minor": 0,
  "metadata": {
    "colab": {
      "name": "Untitled0.ipynb",
      "provenance": []
    },
    "kernelspec": {
      "name": "python3",
      "display_name": "Python 3"
    },
    "language_info": {
      "name": "python"
    }
  },
  "cells": [
    {
      "cell_type": "code",
      "execution_count": 1,
      "metadata": {
        "id": "BFOGWN8WagP0"
      },
      "outputs": [],
      "source": [
        "import sklearn\n",
        "from sklearn import svm\n",
        "from sklearn import datasets"
      ]
    },
    {
      "cell_type": "code",
      "source": [
        "cancer = datasets.load_breast_cancer()"
      ],
      "metadata": {
        "id": "MoCCaG1xar7n"
      },
      "execution_count": 2,
      "outputs": []
    },
    {
      "cell_type": "code",
      "source": [
        "print(\"Features:\",cancer.feature_names)"
      ],
      "metadata": {
        "colab": {
          "base_uri": "https://localhost:8080/"
        },
        "id": "SeyBSEwCay2S",
        "outputId": "042de767-75c2-4e1b-ca1f-01e433d70327"
      },
      "execution_count": 3,
      "outputs": [
        {
          "output_type": "stream",
          "name": "stdout",
          "text": [
            "Features: ['mean radius' 'mean texture' 'mean perimeter' 'mean area'\n",
            " 'mean smoothness' 'mean compactness' 'mean concavity'\n",
            " 'mean concave points' 'mean symmetry' 'mean fractal dimension'\n",
            " 'radius error' 'texture error' 'perimeter error' 'area error'\n",
            " 'smoothness error' 'compactness error' 'concavity error'\n",
            " 'concave points error' 'symmetry error' 'fractal dimension error'\n",
            " 'worst radius' 'worst texture' 'worst perimeter' 'worst area'\n",
            " 'worst smoothness' 'worst compactness' 'worst concavity'\n",
            " 'worst concave points' 'worst symmetry' 'worst fractal dimension']\n"
          ]
        }
      ]
    },
    {
      "cell_type": "code",
      "source": [
        "print(\"Labels:\", cancer.target_names)"
      ],
      "metadata": {
        "colab": {
          "base_uri": "https://localhost:8080/"
        },
        "id": "3GVxz7QOa8L0",
        "outputId": "ae7ff5b4-e28c-47b1-8b48-62e340239a39"
      },
      "execution_count": 4,
      "outputs": [
        {
          "output_type": "stream",
          "name": "stdout",
          "text": [
            "Labels: ['malignant' 'benign']\n"
          ]
        }
      ]
    },
    {
      "cell_type": "markdown",
      "source": [
        "splitting data"
      ],
      "metadata": {
        "id": "jJwqJroxbC8S"
      }
    },
    {
      "cell_type": "code",
      "source": [
        "x = cancer.data #all of the features\n",
        "y = cancer.target #all of the labels\n",
        "\n",
        "x_train, x_test, y_train, y_test = sklearn.model_selection.train_test_split(x, y, test_size=0.2)"
      ],
      "metadata": {
        "id": "M-YAL0V1bF3k"
      },
      "execution_count": 5,
      "outputs": []
    },
    {
      "cell_type": "code",
      "source": [
        "print(x_train[:5], y_train[:5])"
      ],
      "metadata": {
        "colab": {
          "base_uri": "https://localhost:8080/"
        },
        "id": "t0kVx1_kbaa1",
        "outputId": "ccc23c1c-b483-47da-efad-c2554a76d4d0"
      },
      "execution_count": 6,
      "outputs": [
        {
          "output_type": "stream",
          "name": "stdout",
          "text": [
            "[[1.327e+01 1.702e+01 8.455e+01 5.464e+02 8.445e-02 4.994e-02 3.554e-02\n",
            "  2.456e-02 1.496e-01 5.674e-02 2.927e-01 8.907e-01 2.044e+00 2.468e+01\n",
            "  6.032e-03 1.104e-02 2.259e-02 9.057e-03 1.482e-02 2.496e-03 1.514e+01\n",
            "  2.360e+01 9.884e+01 7.088e+02 1.276e-01 1.311e-01 1.786e-01 9.678e-02\n",
            "  2.506e-01 7.623e-02]\n",
            " [1.080e+01 2.198e+01 6.879e+01 3.599e+02 8.801e-02 5.743e-02 3.614e-02\n",
            "  1.404e-02 2.016e-01 5.977e-02 3.077e-01 1.621e+00 2.240e+00 2.020e+01\n",
            "  6.543e-03 2.148e-02 2.991e-02 1.045e-02 1.844e-02 2.690e-03 1.276e+01\n",
            "  3.204e+01 8.369e+01 4.895e+02 1.303e-01 1.696e-01 1.927e-01 7.485e-02\n",
            "  2.965e-01 7.662e-02]\n",
            " [1.881e+01 1.998e+01 1.209e+02 1.102e+03 8.923e-02 5.884e-02 8.020e-02\n",
            "  5.843e-02 1.550e-01 4.996e-02 3.283e-01 8.280e-01 2.363e+00 3.674e+01\n",
            "  7.571e-03 1.114e-02 2.623e-02 1.463e-02 1.930e-02 1.676e-03 1.996e+01\n",
            "  2.430e+01 1.290e+02 1.236e+03 1.243e-01 1.160e-01 2.210e-01 1.294e-01\n",
            "  2.567e-01 5.737e-02]\n",
            " [1.865e+01 1.760e+01 1.237e+02 1.076e+03 1.099e-01 1.686e-01 1.974e-01\n",
            "  1.009e-01 1.907e-01 6.049e-02 6.289e-01 6.633e-01 4.293e+00 7.156e+01\n",
            "  6.294e-03 3.994e-02 5.554e-02 1.695e-02 2.428e-02 3.535e-03 2.282e+01\n",
            "  2.132e+01 1.506e+02 1.567e+03 1.679e-01 5.090e-01 7.345e-01 2.378e-01\n",
            "  3.799e-01 9.185e-02]\n",
            " [9.667e+00 1.849e+01 6.149e+01 2.891e+02 8.946e-02 6.258e-02 2.948e-02\n",
            "  1.514e-02 2.238e-01 6.413e-02 3.776e-01 1.350e+00 2.569e+00 2.273e+01\n",
            "  7.501e-03 1.989e-02 2.714e-02 9.883e-03 1.960e-02 3.913e-03 1.114e+01\n",
            "  2.562e+01 7.088e+01 3.852e+02 1.234e-01 1.542e-01 1.277e-01 6.560e-02\n",
            "  3.174e-01 8.524e-02]] [1 1 0 0 1]\n"
          ]
        }
      ]
    },
    {
      "cell_type": "markdown",
      "source": [
        "implementing a SVM\n"
      ],
      "metadata": {
        "id": "djzou_yldQmn"
      }
    },
    {
      "cell_type": "code",
      "source": [
        "from sklearn import svm\n",
        "clf = svm.SVC()\n",
        "clf.fit(x_train, y_train)"
      ],
      "metadata": {
        "colab": {
          "base_uri": "https://localhost:8080/"
        },
        "id": "Ax4H86t1dS9L",
        "outputId": "a75e5800-0792-48d9-a121-e4e5ee5af525"
      },
      "execution_count": 7,
      "outputs": [
        {
          "output_type": "execute_result",
          "data": {
            "text/plain": [
              "SVC()"
            ]
          },
          "metadata": {},
          "execution_count": 7
        }
      ]
    },
    {
      "cell_type": "code",
      "source": [
        "from sklearn import metrics\n",
        "\n",
        "y_pred = clf.predict(x_test) # Predict values for our test data\n",
        "\n",
        "acc = metrics.accuracy_score(y_test, y_pred) # Test them against our correct values"
      ],
      "metadata": {
        "id": "zTuy0mF6eCbV"
      },
      "execution_count": 9,
      "outputs": []
    },
    {
      "cell_type": "code",
      "source": [
        "clf = svm.SVC(kernel=\"linear\")"
      ],
      "metadata": {
        "id": "6zxvFCoXeGiI"
      },
      "execution_count": 10,
      "outputs": []
    },
    {
      "cell_type": "code",
      "source": [
        "clf = svm.SVC(kernel=\"linear\", C=2)"
      ],
      "metadata": {
        "id": "X83Ipk0fePpq"
      },
      "execution_count": 11,
      "outputs": []
    },
    {
      "cell_type": "markdown",
      "source": [
        "comparing w KNN"
      ],
      "metadata": {
        "id": "kFNr1flmeYKI"
      }
    },
    {
      "cell_type": "code",
      "source": [
        "from sklearn.neighbors import KNeighborsClassifier\n",
        "\n",
        "clf = KNeighborsClassifier(n_neighbors=11)"
      ],
      "metadata": {
        "id": "QsfCeU4Fead2"
      },
      "execution_count": 12,
      "outputs": []
    }
  ]
}